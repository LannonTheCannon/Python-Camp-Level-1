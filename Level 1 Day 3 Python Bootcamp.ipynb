{
 "cells":[
  {
   "cell_type":"markdown",
   "source":[
    "## Python Camp Day 3 Exercises\n",
    ">11.16.22"
   ],
   "attachments":{
    
   },
   "metadata":{
    "datalore":{
     "node_id":"Dm6fi2X9HQJIsKIHpGMO70",
     "type":"MD",
     "hide_input_from_viewers":true,
     "hide_output_from_viewers":true
    }
   }
  },
  {
   "cell_type":"markdown",
   "source":[
    ">**Example #001** | **Mission Objective #004** | Total Answer. Ask the user to enter two numbers. Add them together and display the answer as The total is [answer]. ✔️"
   ],
   "attachments":{
    
   },
   "metadata":{
    "datalore":{
     "node_id":"0JEewFfiYsBRcvg2qIHbMt",
     "type":"MD",
     "hide_input_from_viewers":true,
     "hide_output_from_viewers":true
    }
   }
  },
  {
   "cell_type":"code",
   "source":[
    "num1 = int(input('Please enter a number: '))\n",
    "num2 = int(input('Please enter another number: '))\n",
    "\n",
    "answer = num1 + num2\n",
    "print(f'The total answer is {answer}.')"
   ],
   "execution_count":2,
   "outputs":[
    {
     "name":"stdout",
     "text":[
      "Please enter a number:  10\n",
      "Please enter another number:  20\n",
      "The total answer is 30.\n"
     ],
     "output_type":"stream"
    }
   ],
   "metadata":{
    "datalore":{
     "node_id":"6WylcBGLmOKgkxclUyRW6w",
     "type":"CODE",
     "hide_input_from_viewers":true,
     "hide_output_from_viewers":true
    }
   }
  },
  {
   "cell_type":"markdown",
   "source":[
    ">**Example #002** | **Mission Objective #005** | Order of Operations. Ask the user to enter three numbers. Add together the first two numbers and then multiply this total by the third number. Display the total as The total is **[answer]**. Hint: Use parantheses to add together the first two numbers and on the same line multiply by the third number. ✖️ ➕ ➖ ➗"
   ],
   "attachments":{
    
   },
   "metadata":{
    "datalore":{
     "node_id":"m28M7knzDAwr7bjHWx6ubr",
     "type":"MD",
     "hide_input_from_viewers":true,
     "hide_output_from_viewers":true
    }
   }
  },
  {
   "cell_type":"code",
   "source":[
    "num1 = int(input('Please enter a number: '))\n",
    "num2 = int(input('Please enter a second number: '))\n",
    "num3 = int(input('Please enter a third number: '))\n",
    "\n",
    "answer = (num1 + num2)\n",
    "answer2 = answer * num3\n",
    "\n",
    "print(f'The total is {answer}!')"
   ],
   "execution_count":3,
   "outputs":[
    {
     "name":"stdout",
     "text":[
      "Please enter a number:  2\n",
      "Please enter a second number:  3\n",
      "Please enter a third number:  4\n",
      "The total is 20!\n"
     ],
     "output_type":"stream"
    }
   ],
   "metadata":{
    "datalore":{
     "node_id":"JXm66MfdP5kfObyG5VInM9",
     "type":"CODE",
     "hide_input_from_viewers":true,
     "hide_output_from_viewers":true
    }
   }
  },
  {
   "cell_type":"markdown",
   "source":[
    ">**Example #003** | **Mission Objective #006** | Pizza Slices. Ask how many slices of pizza the cosmonauts have in space and ask how many slices they have eaten. Work out how many slices they have left and display the answer in a user friendly format. 🍕"
   ],
   "attachments":{
    
   },
   "metadata":{
    "datalore":{
     "node_id":"IcwNrR2rQpYB943j4OHNP2",
     "type":"MD",
     "hide_input_from_viewers":true,
     "hide_output_from_viewers":true
    }
   }
  },
  {
   "cell_type":"code",
   "source":[
    "numSlices = int(input('Please enter the number of slices you have in space: '))\n",
    "\n",
    "numSlicesEaten = int(input('Please enter the number of slices you have eaten: '))\n",
    "\n",
    "numSlicesLeft = numSlices - numSlicesEaten \n",
    "\n",
    "print(f'You currently have {numSlicesLeft} slices of pizza left!')"
   ],
   "execution_count":4,
   "outputs":[
    {
     "name":"stdout",
     "text":[
      "Please enter the number of slices you have in space:  20\n",
      "Please enter the number of slices you have eaten:  17\n",
      "You currently have 3 slices of pizza left!\n"
     ],
     "output_type":"stream"
    }
   ],
   "metadata":{
    "datalore":{
     "node_id":"3wRHajIvGmtEAzce2IPj1l",
     "type":"CODE",
     "hide_input_from_viewers":true,
     "hide_output_from_viewers":true
    }
   }
  },
  {
   "cell_type":"markdown",
   "source":[
    ">**Example #004** | **Mission Objective #007** | 200 Trips around the sun. Ask the user for the name and their age. Add 200 to their age and display the output [user_name], in 200 years there will be **[some interesting fact about our future in 200 yeas]** 📡🤖"
   ],
   "attachments":{
    
   },
   "metadata":{
    "datalore":{
     "node_id":"x5sqYXaAFtplG0d3KWPpwi",
     "type":"MD",
     "hide_input_from_viewers":true,
     "hide_output_from_viewers":true
    }
   }
  },
  {
   "cell_type":"code",
   "source":[
    "name = input('Please enter a user name: ')\n",
    "age = int(input('Please enter your age: '))\n",
    "\n",
    "#new_age = age + 200\n",
    "#age = age + 200\n",
    "age += 200\n",
    "\n",
    "print(f'In 200 years you will be {age}')"
   ],
   "execution_count":5,
   "outputs":[
    {
     "name":"stdout",
     "text":[
      "Please enter a user name:  Lannon Khau\n",
      "Please enter your age:  27\n",
      "In 200 years you will be 227\n"
     ],
     "output_type":"stream"
    }
   ],
   "metadata":{
    "datalore":{
     "node_id":"UiHng9dGExRVeF3qrg2woi",
     "type":"CODE",
     "hide_input_from_viewers":true,
     "hide_output_from_viewers":true
    }
   }
  },
  {
   "cell_type":"markdown",
   "source":[
    ">**Example #005** | **Mission Objective #008** | Ask for the total price of the bill, then ask how many diners there are. Divide the total bill by the number of diners and show how much each person must pay. 👭🍽️🧑‍🤝‍🧑"
   ],
   "attachments":{
    
   },
   "metadata":{
    "datalore":{
     "node_id":"xcOQavNZ6UtUSGYbsEB2C9",
     "type":"MD",
     "hide_input_from_viewers":true,
     "hide_output_from_viewers":true
    }
   }
  },
  {
   "cell_type":"code",
   "source":[
    "total_bill = int(input('Please enter the total bill of the dinner: '))\n",
    "\n",
    "num_people = int(input('Please enter the number of people who came to dinner: '))\n",
    "\n",
    "price_per_person = total_bill \/ num_people\n",
    "\n",
    "print(f'Each person must pay: ${round(price_per_person, 2)}.')"
   ],
   "execution_count":8,
   "outputs":[
    {
     "name":"stdout",
     "text":[
      "Please enter the total bill of the dinner:  200\n",
      "Please enter the number of people who came to dinner:  5\n",
      "Each person must pay: 40.0.\n"
     ],
     "output_type":"stream"
    }
   ],
   "metadata":{
    "datalore":{
     "node_id":"tRVjbQ7rlfxSBfkW74OCtx",
     "type":"CODE",
     "hide_input_from_viewers":true,
     "hide_output_from_viewers":true
    }
   }
  },
  {
   "cell_type":"markdown",
   "source":[
    ">**Example #006** | **Mission Objective #009** | Days Calculator. Write a program that will ask for a number of days and then will show how many hours, minutes, and seconds are in that number of days.🧮📏"
   ],
   "attachments":{
    
   },
   "metadata":{
    "datalore":{
     "node_id":"ccOqyJXbwhzrL1Mal8WotZ",
     "type":"MD",
     "hide_input_from_viewers":true,
     "hide_output_from_viewers":true
    }
   }
  },
  {
   "cell_type":"code",
   "source":[
    "num_days = int(input('Please enter the number of days: '))\n",
    "\n",
    "# how many hours are in a day ?\n",
    "num_hours = 24 * num_days \n",
    "\n",
    "# How many minutes are in an hour ?\n",
    "num_minutes = 60 * num_hours\n",
    "\n",
    "# How many seconds are in a minute? \n",
    "num_seconds = 60 * num_minutes\n",
    "\n",
    "print(f'''\n",
    "in {num_days} there are: \n",
    "{num_hours} hours or \n",
    "{num_minutes} minutes or \n",
    "{num_seconds} seconds.\n",
    "''')"
   ],
   "execution_count":9,
   "outputs":[
    {
     "name":"stdout",
     "text":[
      "Please enter the number of days:  5\n",
      "\n",
      "in 5 there are: \n",
      "120 hours or \n",
      "7200 minutes or \n",
      "432000 seconds.\n",
      "\n"
     ],
     "output_type":"stream"
    }
   ],
   "metadata":{
    "datalore":{
     "node_id":"0oJpHPw3k1CHrzpgK8ng1G",
     "type":"CODE",
     "hide_input_from_viewers":true,
     "hide_output_from_viewers":true
    }
   }
  },
  {
   "cell_type":"markdown",
   "source":[
    ">**Example #007** | **Mission Objective #0010** | Light Years. There are 6,000,000,000,000 miles (6 trillion miles) in 1 light year. Ask the user the name of an earth-like planet and then ask the user to enter the distance (in light years) of that planet. Then convert that number to miles and display the distance in a user friendly way. Hint: you will have to do a google search and find the distance of a planet with earth-\n",
    "like conditions. 🦾 👨‍💻👩‍🚀"
   ],
   "attachments":{
    
   },
   "metadata":{
    "datalore":{
     "node_id":"lxqrVLnOUI9L3JNRnKvDOg",
     "type":"MD",
     "hide_input_from_viewers":true,
     "hide_output_from_viewers":true
    }
   }
  },
  {
   "cell_type":"code",
   "source":[
    "planet_name = input('Please enter the name of the exoplanet: ')\n",
    "num_light_years = int(input(f'Please enter the number of light years {planet_name}: '))\n",
    "miles = num_light_years * 6000000000000\n",
    "\n",
    "print(f'The number of miles {planet_name} is from Earth is {miles} miles!')\n"
   ],
   "execution_count":11,
   "outputs":[
    {
     "name":"stdout",
     "text":[
      "Please enter the name of the exoplanet:  Kepler 78-b\n",
      "Please enter the number of light years Kepler 78-b:  400\n",
      "The number of miles Kepler 78-b is from Earth is 2400000000000000 miles!\n"
     ],
     "output_type":"stream"
    }
   ],
   "metadata":{
    "datalore":{
     "node_id":"peoHJVgIh26qr65hfkCX6g",
     "type":"CODE",
     "hide_input_from_viewers":true,
     "hide_output_from_viewers":true
    }
   }
  },
  {
   "cell_type":"markdown",
   "source":[
    ">**Example #008** | **Mission Objective #0011** | Egg Farmer. Help a chicken coop farmer by asking him how many eggs he has in total. Find out how many dozens of eggs (egg carts) he can sell. Each egg cart sells for $3.99. First, tell the farmer (in a user friendly format) how many egg carts he has and then tell him how much money he can earn if he sold all of his egg carts. Hint: Your answer should include a\n",
    "dollar sign 🥚🍳🐣"
   ],
   "attachments":{
    
   },
   "metadata":{
    "datalore":{
     "node_id":"9T6WC7id9fwAgpCsx5X78q",
     "type":"MD",
     "hide_input_from_viewers":true,
     "hide_output_from_viewers":true
    }
   }
  },
  {
   "cell_type":"code",
   "source":[
    
   ],
   "execution_count":null,
   "outputs":[
    
   ],
   "metadata":{
    "datalore":{
     "node_id":"1zRy1KJtkFicBnxfHFkLPF",
     "type":"CODE",
     "hide_input_from_viewers":true,
     "hide_output_from_viewers":true
    }
   }
  },
  {
   "cell_type":"code",
   "source":[
    
   ],
   "execution_count":null,
   "outputs":[
    
   ],
   "metadata":{
    "datalore":{
     "node_id":"qgD8QvnUusuLri7FIdmfv9",
     "type":"CODE",
     "hide_input_from_viewers":true,
     "hide_output_from_viewers":true
    }
   }
  }
 ],
 "metadata":{
  "kernelspec":{
   "display_name":"Python",
   "language":"python",
   "name":"python"
  },
  "datalore":{
   "version":1,
   "computation_mode":"JUPYTER",
   "package_manager":"pip",
   "base_environment":"default",
   "packages":[
    
   ]
  }
 },
 "nbformat":4,
 "nbformat_minor":4
}