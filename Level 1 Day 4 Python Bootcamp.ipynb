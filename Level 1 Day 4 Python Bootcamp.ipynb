{
 "cells":[
  {
   "cell_type":"markdown",
   "source":[
    "## Python Camp Day 4 Exercises\n",
    ">11.18.22"
   ],
   "attachments":{
    
   },
   "metadata":{
    "datalore":{
     "node_id":"SVQ6u5YWnPXwZdPawZQ4fm",
     "type":"MD",
     "hide_input_from_viewers":true,
     "hide_output_from_viewers":true
    }
   }
  },
  {
   "cell_type":"markdown",
   "source":[
    ">**Example #008** | **Mission Objective #0011** | Egg Farmer. Help a chicken coop farmer by asking him how many eggs he has in total. Find out how many dozens of eggs (egg carts) he can sell. Each egg cart sells for $3.99. First, tell the farmer (in a user friendly format) how many egg carts he has and then tell him how much money he can earn if he sold all of his egg carts. Hint: Your answer should include a\n",
    "dollar sign 🥚🍳🐣"
   ],
   "attachments":{
    
   },
   "metadata":{
    "datalore":{
     "node_id":"hE5YvbWiuCQxNpupMyoq3G",
     "type":"MD",
     "hide_input_from_viewers":true,
     "hide_output_from_viewers":true
    }
   }
  },
  {
   "cell_type":"code",
   "source":[
    
   ],
   "execution_count":null,
   "outputs":[
    
   ],
   "metadata":{
    "datalore":{
     "node_id":"GZUAXBCAUO2VmGEAwqKb2a",
     "type":"CODE",
     "hide_input_from_viewers":true,
     "hide_output_from_viewers":true
    }
   }
  }
 ],
 "metadata":{
  "kernelspec":{
   "display_name":"Python",
   "language":"python",
   "name":"python"
  },
  "datalore":{
   "version":1,
   "computation_mode":"JUPYTER",
   "package_manager":"pip",
   "base_environment":"default",
   "packages":[
    
   ]
  }
 },
 "nbformat":4,
 "nbformat_minor":4
}